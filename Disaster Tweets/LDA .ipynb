{
 "cells": [
  {
   "cell_type": "markdown",
   "metadata": {},
   "source": [
    "# Imports"
   ]
  },
  {
   "cell_type": "code",
   "execution_count": 1,
   "metadata": {},
   "outputs": [],
   "source": [
    "import pandas as pd\n",
    "import matplotlib.pyplot as plt\n",
    "import numpy as np\n",
    "import re\n",
    "import nltk\n",
    "import gensim\n",
    "from gensim.utils import simple_preprocess\n",
    "np.random.seed(2018)\n",
    "import ast\n",
    "import sklearn\n",
    "from sklearn.decomposition import TruncatedSVD\n",
    "from gensim import corpora\n",
    "from gensim.models import LsiModel\n",
    "from gensim.models.coherencemodel import CoherenceModel\n",
    "from gensim import corpora, models\n",
    "# import pyLDAvis\n",
    "# import pyLDAvis.gensim  # don't skip this"
   ]
  },
  {
   "cell_type": "code",
   "execution_count": 2,
   "metadata": {},
   "outputs": [
    {
     "data": {
      "text/html": [
       "<div>\n",
       "<style scoped>\n",
       "    .dataframe tbody tr th:only-of-type {\n",
       "        vertical-align: middle;\n",
       "    }\n",
       "\n",
       "    .dataframe tbody tr th {\n",
       "        vertical-align: top;\n",
       "    }\n",
       "\n",
       "    .dataframe thead th {\n",
       "        text-align: right;\n",
       "    }\n",
       "</style>\n",
       "<table border=\"1\" class=\"dataframe\">\n",
       "  <thead>\n",
       "    <tr style=\"text-align: right;\">\n",
       "      <th></th>\n",
       "      <th>id</th>\n",
       "      <th>keyword</th>\n",
       "      <th>location</th>\n",
       "      <th>target</th>\n",
       "      <th>text</th>\n",
       "    </tr>\n",
       "  </thead>\n",
       "  <tbody>\n",
       "    <tr>\n",
       "      <td>0</td>\n",
       "      <td>1</td>\n",
       "      <td>NaN</td>\n",
       "      <td>NaN</td>\n",
       "      <td>1.0</td>\n",
       "      <td>[deed, reason, earthquak, may, allah, forgiv, u]</td>\n",
       "    </tr>\n",
       "    <tr>\n",
       "      <td>1</td>\n",
       "      <td>4</td>\n",
       "      <td>NaN</td>\n",
       "      <td>NaN</td>\n",
       "      <td>1.0</td>\n",
       "      <td>[forest, fire, near, la, rong, sask, canada]</td>\n",
       "    </tr>\n",
       "    <tr>\n",
       "      <td>2</td>\n",
       "      <td>5</td>\n",
       "      <td>NaN</td>\n",
       "      <td>NaN</td>\n",
       "      <td>1.0</td>\n",
       "      <td>[resid, ask, shelter, place, notifi, offic, ev...</td>\n",
       "    </tr>\n",
       "    <tr>\n",
       "      <td>3</td>\n",
       "      <td>6</td>\n",
       "      <td>NaN</td>\n",
       "      <td>NaN</td>\n",
       "      <td>1.0</td>\n",
       "      <td>[13000, peopl, receiv, wildfir, evacu, order, ...</td>\n",
       "    </tr>\n",
       "    <tr>\n",
       "      <td>4</td>\n",
       "      <td>7</td>\n",
       "      <td>NaN</td>\n",
       "      <td>NaN</td>\n",
       "      <td>1.0</td>\n",
       "      <td>[got, sent, photo, rubi, alaska, smoke, wildfi...</td>\n",
       "    </tr>\n",
       "  </tbody>\n",
       "</table>\n",
       "</div>"
      ],
      "text/plain": [
       "   id keyword location  target  \\\n",
       "0   1     NaN      NaN     1.0   \n",
       "1   4     NaN      NaN     1.0   \n",
       "2   5     NaN      NaN     1.0   \n",
       "3   6     NaN      NaN     1.0   \n",
       "4   7     NaN      NaN     1.0   \n",
       "\n",
       "                                                text  \n",
       "0   [deed, reason, earthquak, may, allah, forgiv, u]  \n",
       "1       [forest, fire, near, la, rong, sask, canada]  \n",
       "2  [resid, ask, shelter, place, notifi, offic, ev...  \n",
       "3  [13000, peopl, receiv, wildfir, evacu, order, ...  \n",
       "4  [got, sent, photo, rubi, alaska, smoke, wildfi...  "
      ]
     },
     "execution_count": 2,
     "metadata": {},
     "output_type": "execute_result"
    }
   ],
   "source": [
    "df=pd.read_csv(\"train_clean_final.csv\", converters={'text': eval})\n",
    "df.head()"
   ]
  },
  {
   "cell_type": "code",
   "execution_count": 7,
   "metadata": {},
   "outputs": [
    {
     "data": {
      "text/html": [
       "<div>\n",
       "<style scoped>\n",
       "    .dataframe tbody tr th:only-of-type {\n",
       "        vertical-align: middle;\n",
       "    }\n",
       "\n",
       "    .dataframe tbody tr th {\n",
       "        vertical-align: top;\n",
       "    }\n",
       "\n",
       "    .dataframe thead th {\n",
       "        text-align: right;\n",
       "    }\n",
       "</style>\n",
       "<table border=\"1\" class=\"dataframe\">\n",
       "  <thead>\n",
       "    <tr style=\"text-align: right;\">\n",
       "      <th></th>\n",
       "      <th>id</th>\n",
       "      <th>keyword</th>\n",
       "      <th>location</th>\n",
       "      <th>target</th>\n",
       "      <th>text</th>\n",
       "    </tr>\n",
       "  </thead>\n",
       "  <tbody>\n",
       "    <tr>\n",
       "      <td>0</td>\n",
       "      <td>1</td>\n",
       "      <td>NaN</td>\n",
       "      <td>NaN</td>\n",
       "      <td>1.0</td>\n",
       "      <td>[deed, reason, earthquak, may, allah, forgiv, u]</td>\n",
       "    </tr>\n",
       "    <tr>\n",
       "      <td>1</td>\n",
       "      <td>4</td>\n",
       "      <td>NaN</td>\n",
       "      <td>NaN</td>\n",
       "      <td>1.0</td>\n",
       "      <td>[forest, fire, near, la, rong, sask, canada]</td>\n",
       "    </tr>\n",
       "    <tr>\n",
       "      <td>2</td>\n",
       "      <td>5</td>\n",
       "      <td>NaN</td>\n",
       "      <td>NaN</td>\n",
       "      <td>1.0</td>\n",
       "      <td>[resid, ask, shelter, place, notifi, offic, ev...</td>\n",
       "    </tr>\n",
       "    <tr>\n",
       "      <td>3</td>\n",
       "      <td>6</td>\n",
       "      <td>NaN</td>\n",
       "      <td>NaN</td>\n",
       "      <td>1.0</td>\n",
       "      <td>[13000, peopl, receiv, wildfir, evacu, order, ...</td>\n",
       "    </tr>\n",
       "    <tr>\n",
       "      <td>4</td>\n",
       "      <td>7</td>\n",
       "      <td>NaN</td>\n",
       "      <td>NaN</td>\n",
       "      <td>1.0</td>\n",
       "      <td>[got, sent, photo, rubi, alaska, smoke, wildfi...</td>\n",
       "    </tr>\n",
       "  </tbody>\n",
       "</table>\n",
       "</div>"
      ],
      "text/plain": [
       "   id keyword location  target  \\\n",
       "0   1     NaN      NaN     1.0   \n",
       "1   4     NaN      NaN     1.0   \n",
       "2   5     NaN      NaN     1.0   \n",
       "3   6     NaN      NaN     1.0   \n",
       "4   7     NaN      NaN     1.0   \n",
       "\n",
       "                                                text  \n",
       "0   [deed, reason, earthquak, may, allah, forgiv, u]  \n",
       "1       [forest, fire, near, la, rong, sask, canada]  \n",
       "2  [resid, ask, shelter, place, notifi, offic, ev...  \n",
       "3  [13000, peopl, receiv, wildfir, evacu, order, ...  \n",
       "4  [got, sent, photo, rubi, alaska, smoke, wildfi...  "
      ]
     },
     "execution_count": 7,
     "metadata": {},
     "output_type": "execute_result"
    }
   ],
   "source": [
    "df2=pd.read_csv(\"test_clean_final.csv\", converters={'text': eval})\n",
    "df.head()"
   ]
  },
  {
   "cell_type": "code",
   "execution_count": 8,
   "metadata": {},
   "outputs": [],
   "source": [
    "processed_docs=df['text']\n",
    "processed_docs2=df2['text']"
   ]
  },
  {
   "cell_type": "markdown",
   "metadata": {},
   "source": [
    "# Bag of Words"
   ]
  },
  {
   "cell_type": "code",
   "execution_count": 9,
   "metadata": {},
   "outputs": [],
   "source": [
    "dictionary = gensim.corpora.Dictionary(processed_docs)\n",
    "dictionary2 = gensim.corpora.Dictionary(processed_docs2)\n"
   ]
  },
  {
   "cell_type": "code",
   "execution_count": 10,
   "metadata": {},
   "outputs": [],
   "source": [
    "dictionary.filter_extremes(no_below=15, no_above=0.5, keep_n=100000)\n",
    "dictionary2.filter_extremes(no_below=15, no_above=0.5, keep_n=100000)"
   ]
  },
  {
   "cell_type": "code",
   "execution_count": 11,
   "metadata": {},
   "outputs": [],
   "source": [
    "bow_corpus = [dictionary.doc2bow(doc) for doc in processed_docs]\n",
    "bow_corpus2 = [dictionary2.doc2bow(doc) for doc in processed_docs2]"
   ]
  },
  {
   "cell_type": "code",
   "execution_count": 7,
   "metadata": {},
   "outputs": [
    {
     "name": "stdout",
     "output_type": "stream",
     "text": [
      "Word 51 (\"fast\") appears 1 time.\n",
      "Word 110 (\"used\") appears 1 time.\n",
      "Word 150 (\"great\") appears 1 time.\n",
      "Word 180 (\"damage\") appears 1 time.\n",
      "Word 352 (\"whole\") appears 1 time.\n",
      "Word 447 (\"saw\") appears 1 time.\n"
     ]
    }
   ],
   "source": [
    "bow_doc_2000 = bow_corpus[2000]\n",
    "for i in range(len(bow_doc_2000)):\n",
    "    print(\"Word {} (\\\"{}\\\") appears {} time.\".format(bow_doc_2000[i][0], \n",
    "                                               dictionary[bow_doc_2000[i][0]], \n",
    "bow_doc_2000[i][1]))"
   ]
  },
  {
   "cell_type": "markdown",
   "metadata": {},
   "source": [
    "# TF-IDF "
   ]
  },
  {
   "cell_type": "code",
   "execution_count": 12,
   "metadata": {},
   "outputs": [
    {
     "name": "stdout",
     "output_type": "stream",
     "text": [
      "[(0, 0.5091708437330859), (1, 0.6748278354371504), (2, 0.5341839050470798)]\n"
     ]
    }
   ],
   "source": [
    "tfidf = models.TfidfModel(bow_corpus)\n",
    "corpus_tfidf = tfidf[bow_corpus]\n",
    "corpus_tfidf2 = tfidf[bow_corpus2]\n",
    "from pprint import pprint\n",
    "for doc in corpus_tfidf:\n",
    "    pprint(doc)\n",
    "    break"
   ]
  },
  {
   "cell_type": "markdown",
   "metadata": {},
   "source": [
    "# LDA Bag of Words topics optimization"
   ]
  },
  {
   "cell_type": "code",
   "execution_count": 51,
   "metadata": {},
   "outputs": [],
   "source": [
    "def prepare_corpus(doc_clean):\n",
    "    \"\"\"\n",
    "    Input  : clean document\n",
    "    Purpose: create term dictionary of our courpus and Converting list of documents (corpus) into Document Term Matrix\n",
    "    Output : term dictionary and Document Term Matrix\n",
    "    \"\"\"\n",
    "    # Creating the term dictionary of our courpus, where every unique term is assigned an index. dictionary = corpora.Dictionary(doc_clean)\n",
    "    dictionary = corpora.Dictionary(doc_clean)\n",
    "    # Converting list of documents (corpus) into Document Term Matrix using dictionary prepared above.\n",
    "    doc_term_matrix = [dictionary.doc2bow(doc) for doc in doc_clean]\n",
    "    \n",
    "    # generate LDA model\n",
    "    return dictionary,doc_term_matrix"
   ]
  },
  {
   "cell_type": "code",
   "execution_count": 72,
   "metadata": {},
   "outputs": [],
   "source": [
    "def compute_coherence_values_lda(dictionary, bow_corpus,doc_clean, start, stop, step):\n",
    "    \"\"\"\n",
    "    Input   : dictionary : Gensim dictionary\n",
    "              corpus : Gensim corpus\n",
    "              texts : List of input texts\n",
    "              stop : Max num of topics\n",
    "    purpose : Compute c_v coherence for various number of topics\n",
    "    Output  : model_list : List of LSA topic models\n",
    "              coherence_values : Coherence values corresponding to the LDA model with respective number of topics\n",
    "    \"\"\"\n",
    "    \n",
    "    #Training Parameters\n",
    "    num_topics=20\n",
    "    passes = 2 #equivalent of epoch\n",
    "    iterations = 400\n",
    "    eval_every = None\n",
    "    workers=2\n",
    "    \n",
    "    coherence_values = []\n",
    "    model_list = []\n",
    "    for num_topics in range(start, stop, step):\n",
    "        # generate LSA model\n",
    "        model = gensim.models.LdaMulticore(bow_corpus, \n",
    "                                       id2word=dictionary, \n",
    "                                       iterations=iterations,\n",
    "                                       num_topics=num_topics,\n",
    "                                       passes=passes,\n",
    "                                       workers=workers,\n",
    "                                       eval_every=eval_every)\n",
    "        model_list.append(model)\n",
    "        coherencemodel = CoherenceModel(model=model, texts=doc_clean, dictionary=dictionary, coherence='c_v')\n",
    "        coherence_values.append(coherencemodel.get_coherence())\n",
    "    return model_list, coherence_values"
   ]
  },
  {
   "cell_type": "code",
   "execution_count": 64,
   "metadata": {},
   "outputs": [],
   "source": [
    "def plot_graph_lda(doc_clean,start, stop, step):\n",
    "    dictionary,doc_term_matrix=prepare_corpus(doc_clean)\n",
    "    model_list, coherence_values = compute_coherence_values(dictionary, doc_term_matrix,doc_clean,start,stop, step)\n",
    "    # Show graph\n",
    "    x = range(start, stop, step)\n",
    "    plt.plot(x, coherence_values)\n",
    "    plt.xlabel(\"Number of Topics\")\n",
    "    plt.ylabel(\"Coherence score\")\n",
    "    plt.legend((\"coherence_values\"), loc='best')\n",
    "    plt.show()"
   ]
  },
  {
   "cell_type": "code",
   "execution_count": 65,
   "metadata": {},
   "outputs": [
    {
     "data": {
      "image/png": "[encoded data removed]",
      "text/plain": [
       "<Figure size 432x288 with 1 Axes>"
      ]
     },
     "metadata": {
      "needs_background": "light"
     },
     "output_type": "display_data"
    }
   ],
   "source": [
    "start,stop,step=2,20,1\n",
    "plot_graph_lda(processed_docs,start,stop,step)\n"
   ]
  },
  {
   "cell_type": "markdown",
   "metadata": {},
   "source": [
    "# LDA TF-IDF topics optimization"
   ]
  },
  {
   "cell_type": "code",
   "execution_count": 73,
   "metadata": {},
   "outputs": [],
   "source": [
    "def prepare_corpus_tfidf(doc_clean):\n",
    "    \"\"\"\n",
    "    Input  : clean document\n",
    "    Purpose: create term dictionary of our courpus and Converting list of documents (corpus) into Document Term Matrix\n",
    "    Output : term dictionary and Document Term Matrix\n",
    "    \"\"\"\n",
    "    # Creating the term dictionary of our courpus, where every unique term is assigned an index. dictionary = corpora.Dictionary(doc_clean)\n",
    "    dictionary = corpora.Dictionary(doc_clean)\n",
    "    # Converting list of documents (corpus) into Document Term Matrix using dictionary prepared above.\n",
    "    doc_term_matrix = [dictionary.doc2bow(doc) for doc in doc_clean]\n",
    "    #Computing TF-IDF \n",
    "    tfidf = models.TfidfModel(bow_corpus)\n",
    "    corpus_tfidf = tfidf[doc_term_matrix]\n",
    "    # generate LDA model\n",
    "    return dictionary,corpus_tfidf"
   ]
  },
  {
   "cell_type": "code",
   "execution_count": 74,
   "metadata": {},
   "outputs": [],
   "source": [
    "def plot_graph_lda_tfidf(doc_clean,start, stop, step):\n",
    "    dictionary,doc_term_matrix=prepare_corpus(doc_clean)\n",
    "    model_list, coherence_values = compute_coherence_values_lda(dictionary,doc_term_matrix,doc_clean,start,stop,step)\n",
    "    # Show graph\n",
    "    x = range(start, stop, step)\n",
    "    plt.plot(x, coherence_values)\n",
    "    plt.xlabel(\"Number of Topics\")\n",
    "    plt.ylabel(\"Coherence score\")\n",
    "    plt.legend((\"coherence_values\"), loc='best')\n",
    "    plt.show()"
   ]
  },
  {
   "cell_type": "code",
   "execution_count": 75,
   "metadata": {},
   "outputs": [
    {
     "data": {
      "image/png": "[encoded data removed]",
      "text/plain": [
       "<Figure size 432x288 with 1 Axes>"
      ]
     },
     "metadata": {
      "needs_background": "light"
     },
     "output_type": "display_data"
    }
   ],
   "source": [
    "start,stop,step=2,20,1\n",
    "plot_graph_lda_tfidf(processed_docs,start,stop,step)\n"
   ]
  },
  {
   "cell_type": "markdown",
   "metadata": {},
   "source": [
    "# LDA Bag of words"
   ]
  },
  {
   "cell_type": "code",
   "execution_count": 72,
   "metadata": {},
   "outputs": [],
   "source": [
    "#Training Parameters\n",
    "num_topics=2\n",
    "passes = 5 #equivalent of epoch\n",
    "iterations = 400\n",
    "eval_every = None\n",
    "workers=2\n",
    "\n",
    "#Model\n",
    "lda_model = gensim.models.LdaMulticore(bow_corpus, \n",
    "                                       id2word=dictionary, \n",
    "                                       iterations=iterations,\n",
    "                                       num_topics=num_topics,\n",
    "                                       passes=passes,\n",
    "                                       workers=workers,\n",
    "                                       eval_every=eval_every)"
   ]
  },
  {
   "cell_type": "code",
   "execution_count": 73,
   "metadata": {
    "scrolled": true
   },
   "outputs": [
    {
     "name": "stdout",
     "output_type": "stream",
     "text": [
      "Topic: 0 \n",
      "Words: 0.012*\"û\" + 0.010*\"news\" + 0.010*\"via\" + 0.009*\"video\" + 0.008*\"new\" + 0.008*\"police\" + 0.007*\"suicide\" + 0.005*\"attack\" + 0.005*\"nuclear\" + 0.005*\"youtube\"\n",
      "Topic: 1 \n",
      "Words: 0.011*\"like\" + 0.010*\"amp\" + 0.009*\"im\" + 0.008*\"get\" + 0.008*\"û\" + 0.007*\"fire\" + 0.006*\"dont\" + 0.006*\"us\" + 0.006*\"one\" + 0.005*\"disaster\"\n"
     ]
    }
   ],
   "source": [
    "for idx, topic in lda_model.print_topics(-1):\n",
    "    print('Topic: {} \\nWords: {}'.format(idx, topic))"
   ]
  },
  {
   "cell_type": "markdown",
   "metadata": {},
   "source": [
    "# LDA TF-IDF "
   ]
  },
  {
   "cell_type": "code",
   "execution_count": 13,
   "metadata": {},
   "outputs": [],
   "source": [
    "#Training Parameters\n",
    "num_topics=3\n",
    "passes = 20\n",
    "iterations = 400\n",
    "eval_every = None\n",
    "workers=2\n",
    "#Model\n",
    "lda_model_tfidf = gensim.models.LdaMulticore(corpus=corpus_tfidf, \n",
    "                                       id2word=dictionary, \n",
    "                                       iterations=iterations,\n",
    "                                       num_topics=num_topics,\n",
    "                                       passes=passes,\n",
    "                                       workers=workers,\n",
    "                                       eval_every=eval_every)\n"
   ]
  },
  {
   "cell_type": "code",
   "execution_count": 14,
   "metadata": {
    "scrolled": false
   },
   "outputs": [
    {
     "name": "stdout",
     "output_type": "stream",
     "text": [
      "Topic: 0 \n",
      " Word: 0.009*\"storm\" + 0.008*\"disaster\" + 0.006*\"mass\" + 0.006*\"like\" + 0.006*\"one\" + 0.005*\"thunder\" + 0.005*\"via\" + 0.005*\"look\" + 0.005*\"death\" + 0.005*\"another\"\n",
      "Topic: 1 \n",
      " Word: 0.013*\"fire\" + 0.012*\"im\" + 0.009*\"emergency\" + 0.007*\"nuclear\" + 0.007*\"burning\" + 0.007*\"û\" + 0.007*\"3\" + 0.006*\"crash\" + 0.006*\"us\" + 0.006*\"buildings\"\n",
      "Topic: 2 \n",
      " Word: 0.011*\"video\" + 0.009*\"california\" + 0.008*\"û\" + 0.008*\"fires\" + 0.008*\"like\" + 0.008*\"youtube\" + 0.007*\"news\" + 0.007*\"may\" + 0.007*\"wildfire\" + 0.006*\"love\"\n"
     ]
    }
   ],
   "source": [
    "for idx, topic in lda_model_tfidf.print_topics(-1):\n",
    "    print('Topic: {} \\n Word: {}'.format(idx, topic))"
   ]
  },
  {
   "cell_type": "markdown",
   "metadata": {},
   "source": [
    "# Performance LDA Bag of Words"
   ]
  },
  {
   "cell_type": "code",
   "execution_count": null,
   "metadata": {},
   "outputs": [],
   "source": [
    "id=93"
   ]
  },
  {
   "cell_type": "code",
   "execution_count": 13,
   "metadata": {},
   "outputs": [
    {
     "data": {
      "text/plain": [
       "['colorado',\n",
       " 'avalanche',\n",
       " 'mens',\n",
       " 'official',\n",
       " 'colorado',\n",
       " 'avalanche',\n",
       " 'reebok',\n",
       " 'tshirt',\n",
       " 'xl',\n",
       " 'blue',\n",
       " '100',\n",
       " 'cotton',\n",
       " 'nhl',\n",
       " 'hockey']"
      ]
     },
     "execution_count": 13,
     "metadata": {},
     "output_type": "execute_result"
    }
   ],
   "source": [
    "processed_docs.iloc[id]"
   ]
  },
  {
   "cell_type": "code",
   "execution_count": null,
   "metadata": {
    "scrolled": true
   },
   "outputs": [],
   "source": [
    "for index, score in sorted(lda_model[bow_corpus[id]], key=lambda tup: -1*tup[1]):\n",
    "    print(\"\\nScore: {}\\t \\nTopic: {}\".format(score, lda_model.print_topic(index, 10)))"
   ]
  },
  {
   "cell_type": "markdown",
   "metadata": {},
   "source": [
    "# Performance LDA TF-IDF"
   ]
  },
  {
   "cell_type": "code",
   "execution_count": 18,
   "metadata": {},
   "outputs": [],
   "source": [
    "id=93"
   ]
  },
  {
   "cell_type": "code",
   "execution_count": 19,
   "metadata": {},
   "outputs": [
    {
     "data": {
      "text/plain": [
       "['aashiqui', 'actress', 'anu', 'aggarwal', 'nearfatal', 'accident']"
      ]
     },
     "execution_count": 19,
     "metadata": {},
     "output_type": "execute_result"
    }
   ],
   "source": [
    "processed_docs.iloc[id]"
   ]
  },
  {
   "cell_type": "code",
   "execution_count": 20,
   "metadata": {
    "scrolled": false
   },
   "outputs": [
    {
     "name": "stdout",
     "output_type": "stream",
     "text": [
      "\n",
      "Score: 0.6664155721664429\t \n",
      "Topic: 0.013*\"fire\" + 0.012*\"im\" + 0.009*\"emergency\" + 0.007*\"nuclear\" + 0.007*\"burning\" + 0.007*\"û\" + 0.007*\"3\" + 0.006*\"crash\" + 0.006*\"us\" + 0.006*\"buildings\"\n",
      "\n",
      "Score: 0.1668582260608673\t \n",
      "Topic: 0.009*\"storm\" + 0.008*\"disaster\" + 0.006*\"mass\" + 0.006*\"like\" + 0.006*\"one\" + 0.005*\"thunder\" + 0.005*\"via\" + 0.005*\"look\" + 0.005*\"death\" + 0.005*\"another\"\n",
      "\n",
      "Score: 0.16672618687152863\t \n",
      "Topic: 0.011*\"video\" + 0.009*\"california\" + 0.008*\"û\" + 0.008*\"fires\" + 0.008*\"like\" + 0.008*\"youtube\" + 0.007*\"news\" + 0.007*\"may\" + 0.007*\"wildfire\" + 0.006*\"love\"\n"
     ]
    }
   ],
   "source": [
    "for index, score in sorted(lda_model_tfidf[bow_corpus[id]], key=lambda tup: -1*tup[1]):\n",
    "    print(\"\\nScore: {}\\t \\nTopic: {}\".format(score, lda_model_tfidf.print_topic(index, 10)))"
   ]
  },
  {
   "cell_type": "markdown",
   "metadata": {},
   "source": [
    "# Add to table"
   ]
  },
  {
   "cell_type": "code",
   "execution_count": 36,
   "metadata": {},
   "outputs": [],
   "source": [
    "M=3\n",
    "topic=[[] for i in range(M)]\n",
    "for i in range(len(processed_docs)):\n",
    "    for j in range(M):\n",
    "        topic[j].append(lda_model_tfidf[bow_corpus[i]][j][1])"
   ]
  },
  {
   "cell_type": "code",
   "execution_count": 30,
   "metadata": {},
   "outputs": [],
   "source": [
    "M=3\n",
    "topic2=[[] for i in range(M)]\n",
    "for i in range(len(processed_docs2)):\n",
    "    for j in range(M):\n",
    "        topic2[j].append(lda_model_tfidf[bow_corpus2[i]][j][1])"
   ]
  },
  {
   "cell_type": "code",
   "execution_count": 39,
   "metadata": {},
   "outputs": [
    {
     "data": {
      "text/plain": [
       "7613"
      ]
     },
     "execution_count": 39,
     "metadata": {},
     "output_type": "execute_result"
    }
   ],
   "source": [
    "len(topic[2])"
   ]
  },
  {
   "cell_type": "code",
   "execution_count": 41,
   "metadata": {},
   "outputs": [],
   "source": [
    "for j in range(M):\n",
    "    df['topic'+str(j+1)]=topic[j]\n",
    "    df2['topic'+str(j+1)]=topic2[j]"
   ]
  },
  {
   "cell_type": "code",
   "execution_count": 42,
   "metadata": {},
   "outputs": [
    {
     "data": {
      "text/html": [
       "<div>\n",
       "<style scoped>\n",
       "    .dataframe tbody tr th:only-of-type {\n",
       "        vertical-align: middle;\n",
       "    }\n",
       "\n",
       "    .dataframe tbody tr th {\n",
       "        vertical-align: top;\n",
       "    }\n",
       "\n",
       "    .dataframe thead th {\n",
       "        text-align: right;\n",
       "    }\n",
       "</style>\n",
       "<table border=\"1\" class=\"dataframe\">\n",
       "  <thead>\n",
       "    <tr style=\"text-align: right;\">\n",
       "      <th></th>\n",
       "      <th>id</th>\n",
       "      <th>keyword</th>\n",
       "      <th>location</th>\n",
       "      <th>target</th>\n",
       "      <th>text</th>\n",
       "      <th>topic1</th>\n",
       "      <th>topic2</th>\n",
       "      <th>topic3</th>\n",
       "    </tr>\n",
       "  </thead>\n",
       "  <tbody>\n",
       "    <tr>\n",
       "      <td>0</td>\n",
       "      <td>1</td>\n",
       "      <td>NaN</td>\n",
       "      <td>NaN</td>\n",
       "      <td>1.0</td>\n",
       "      <td>[deed, reason, earthquak, may, allah, forgiv, u]</td>\n",
       "      <td>0.400448</td>\n",
       "      <td>0.088085</td>\n",
       "      <td>0.511507</td>\n",
       "    </tr>\n",
       "    <tr>\n",
       "      <td>1</td>\n",
       "      <td>4</td>\n",
       "      <td>NaN</td>\n",
       "      <td>NaN</td>\n",
       "      <td>1.0</td>\n",
       "      <td>[forest, fire, near, la, rong, sask, canada]</td>\n",
       "      <td>0.072158</td>\n",
       "      <td>0.466595</td>\n",
       "      <td>0.461231</td>\n",
       "    </tr>\n",
       "    <tr>\n",
       "      <td>2</td>\n",
       "      <td>5</td>\n",
       "      <td>NaN</td>\n",
       "      <td>NaN</td>\n",
       "      <td>1.0</td>\n",
       "      <td>[resid, ask, shelter, place, notifi, offic, ev...</td>\n",
       "      <td>0.861514</td>\n",
       "      <td>0.071005</td>\n",
       "      <td>0.067529</td>\n",
       "    </tr>\n",
       "    <tr>\n",
       "      <td>3</td>\n",
       "      <td>6</td>\n",
       "      <td>NaN</td>\n",
       "      <td>NaN</td>\n",
       "      <td>1.0</td>\n",
       "      <td>[13000, peopl, receiv, wildfir, evacu, order, ...</td>\n",
       "      <td>0.128708</td>\n",
       "      <td>0.424875</td>\n",
       "      <td>0.446409</td>\n",
       "    </tr>\n",
       "    <tr>\n",
       "      <td>4</td>\n",
       "      <td>7</td>\n",
       "      <td>NaN</td>\n",
       "      <td>NaN</td>\n",
       "      <td>1.0</td>\n",
       "      <td>[got, sent, photo, rubi, alaska, smoke, wildfi...</td>\n",
       "      <td>0.628407</td>\n",
       "      <td>0.304196</td>\n",
       "      <td>0.067411</td>\n",
       "    </tr>\n",
       "    <tr>\n",
       "      <td>...</td>\n",
       "      <td>...</td>\n",
       "      <td>...</td>\n",
       "      <td>...</td>\n",
       "      <td>...</td>\n",
       "      <td>...</td>\n",
       "      <td>...</td>\n",
       "      <td>...</td>\n",
       "      <td>...</td>\n",
       "    </tr>\n",
       "    <tr>\n",
       "      <td>7608</td>\n",
       "      <td>10869</td>\n",
       "      <td>NaN</td>\n",
       "      <td>NaN</td>\n",
       "      <td>1.0</td>\n",
       "      <td>[two, giant, cranes, holding, bridge, collapse...</td>\n",
       "      <td>0.041718</td>\n",
       "      <td>0.042214</td>\n",
       "      <td>0.916062</td>\n",
       "    </tr>\n",
       "    <tr>\n",
       "      <td>7609</td>\n",
       "      <td>10870</td>\n",
       "      <td>NaN</td>\n",
       "      <td>NaN</td>\n",
       "      <td>1.0</td>\n",
       "      <td>[ariaahrary, thetawniest, control, wild, fires...</td>\n",
       "      <td>0.042063</td>\n",
       "      <td>0.039027</td>\n",
       "      <td>0.918904</td>\n",
       "    </tr>\n",
       "    <tr>\n",
       "      <td>7610</td>\n",
       "      <td>10871</td>\n",
       "      <td>NaN</td>\n",
       "      <td>NaN</td>\n",
       "      <td>1.0</td>\n",
       "      <td>[m194, 0104, utc5km, volcano, hawaii]</td>\n",
       "      <td>0.663844</td>\n",
       "      <td>0.166736</td>\n",
       "      <td>0.169416</td>\n",
       "    </tr>\n",
       "    <tr>\n",
       "      <td>7611</td>\n",
       "      <td>10872</td>\n",
       "      <td>NaN</td>\n",
       "      <td>NaN</td>\n",
       "      <td>1.0</td>\n",
       "      <td>[police, investigating, ebike, collided, car, ...</td>\n",
       "      <td>0.047942</td>\n",
       "      <td>0.639909</td>\n",
       "      <td>0.312207</td>\n",
       "    </tr>\n",
       "    <tr>\n",
       "      <td>7612</td>\n",
       "      <td>10873</td>\n",
       "      <td>NaN</td>\n",
       "      <td>NaN</td>\n",
       "      <td>1.0</td>\n",
       "      <td>[latest, homes, razed, northern, california, w...</td>\n",
       "      <td>0.037290</td>\n",
       "      <td>0.037260</td>\n",
       "      <td>0.925450</td>\n",
       "    </tr>\n",
       "  </tbody>\n",
       "</table>\n",
       "<p>7613 rows × 8 columns</p>\n",
       "</div>"
      ],
      "text/plain": [
       "         id keyword location  target  \\\n",
       "0         1     NaN      NaN     1.0   \n",
       "1         4     NaN      NaN     1.0   \n",
       "2         5     NaN      NaN     1.0   \n",
       "3         6     NaN      NaN     1.0   \n",
       "4         7     NaN      NaN     1.0   \n",
       "...     ...     ...      ...     ...   \n",
       "7608  10869     NaN      NaN     1.0   \n",
       "7609  10870     NaN      NaN     1.0   \n",
       "7610  10871     NaN      NaN     1.0   \n",
       "7611  10872     NaN      NaN     1.0   \n",
       "7612  10873     NaN      NaN     1.0   \n",
       "\n",
       "                                                   text    topic1    topic2  \\\n",
       "0      [deed, reason, earthquak, may, allah, forgiv, u]  0.400448  0.088085   \n",
       "1          [forest, fire, near, la, rong, sask, canada]  0.072158  0.466595   \n",
       "2     [resid, ask, shelter, place, notifi, offic, ev...  0.861514  0.071005   \n",
       "3     [13000, peopl, receiv, wildfir, evacu, order, ...  0.128708  0.424875   \n",
       "4     [got, sent, photo, rubi, alaska, smoke, wildfi...  0.628407  0.304196   \n",
       "...                                                 ...       ...       ...   \n",
       "7608  [two, giant, cranes, holding, bridge, collapse...  0.041718  0.042214   \n",
       "7609  [ariaahrary, thetawniest, control, wild, fires...  0.042063  0.039027   \n",
       "7610              [m194, 0104, utc5km, volcano, hawaii]  0.663844  0.166736   \n",
       "7611  [police, investigating, ebike, collided, car, ...  0.047942  0.639909   \n",
       "7612  [latest, homes, razed, northern, california, w...  0.037290  0.037260   \n",
       "\n",
       "        topic3  \n",
       "0     0.511507  \n",
       "1     0.461231  \n",
       "2     0.067529  \n",
       "3     0.446409  \n",
       "4     0.067411  \n",
       "...        ...  \n",
       "7608  0.916062  \n",
       "7609  0.918904  \n",
       "7610  0.169416  \n",
       "7611  0.312207  \n",
       "7612  0.925450  \n",
       "\n",
       "[7613 rows x 8 columns]"
      ]
     },
     "execution_count": 42,
     "metadata": {},
     "output_type": "execute_result"
    }
   ],
   "source": [
    "df"
   ]
  },
  {
   "cell_type": "code",
   "execution_count": 43,
   "metadata": {},
   "outputs": [
    {
     "data": {
      "text/html": [
       "<div>\n",
       "<style scoped>\n",
       "    .dataframe tbody tr th:only-of-type {\n",
       "        vertical-align: middle;\n",
       "    }\n",
       "\n",
       "    .dataframe tbody tr th {\n",
       "        vertical-align: top;\n",
       "    }\n",
       "\n",
       "    .dataframe thead th {\n",
       "        text-align: right;\n",
       "    }\n",
       "</style>\n",
       "<table border=\"1\" class=\"dataframe\">\n",
       "  <thead>\n",
       "    <tr style=\"text-align: right;\">\n",
       "      <th></th>\n",
       "      <th>id</th>\n",
       "      <th>keyword</th>\n",
       "      <th>location</th>\n",
       "      <th>target</th>\n",
       "      <th>text</th>\n",
       "      <th>topic1</th>\n",
       "      <th>topic2</th>\n",
       "      <th>topic3</th>\n",
       "    </tr>\n",
       "  </thead>\n",
       "  <tbody>\n",
       "    <tr>\n",
       "      <td>0</td>\n",
       "      <td>0</td>\n",
       "      <td>NaN</td>\n",
       "      <td>NaN</td>\n",
       "      <td>NaN</td>\n",
       "      <td>[happened, terrible, car, crash]</td>\n",
       "      <td>0.442827</td>\n",
       "      <td>0.111232</td>\n",
       "      <td>0.445941</td>\n",
       "    </tr>\n",
       "    <tr>\n",
       "      <td>1</td>\n",
       "      <td>2</td>\n",
       "      <td>NaN</td>\n",
       "      <td>NaN</td>\n",
       "      <td>NaN</td>\n",
       "      <td>[heard, earthquake, different, cities, stay, s...</td>\n",
       "      <td>0.086142</td>\n",
       "      <td>0.434642</td>\n",
       "      <td>0.479184</td>\n",
       "    </tr>\n",
       "    <tr>\n",
       "      <td>2</td>\n",
       "      <td>3</td>\n",
       "      <td>NaN</td>\n",
       "      <td>NaN</td>\n",
       "      <td>NaN</td>\n",
       "      <td>[forest, fire, spot, pond, geese, fleeing, acr...</td>\n",
       "      <td>0.600592</td>\n",
       "      <td>0.302229</td>\n",
       "      <td>0.097179</td>\n",
       "    </tr>\n",
       "    <tr>\n",
       "      <td>3</td>\n",
       "      <td>9</td>\n",
       "      <td>NaN</td>\n",
       "      <td>NaN</td>\n",
       "      <td>NaN</td>\n",
       "      <td>[apocalypse, lighting, spokane, wildfires]</td>\n",
       "      <td>0.192604</td>\n",
       "      <td>0.640481</td>\n",
       "      <td>0.166863</td>\n",
       "    </tr>\n",
       "    <tr>\n",
       "      <td>4</td>\n",
       "      <td>11</td>\n",
       "      <td>NaN</td>\n",
       "      <td>NaN</td>\n",
       "      <td>NaN</td>\n",
       "      <td>[typhoon, soudelor, kills, 28, china, taiwan]</td>\n",
       "      <td>0.666273</td>\n",
       "      <td>0.166793</td>\n",
       "      <td>0.166934</td>\n",
       "    </tr>\n",
       "    <tr>\n",
       "      <td>...</td>\n",
       "      <td>...</td>\n",
       "      <td>...</td>\n",
       "      <td>...</td>\n",
       "      <td>...</td>\n",
       "      <td>...</td>\n",
       "      <td>...</td>\n",
       "      <td>...</td>\n",
       "      <td>...</td>\n",
       "    </tr>\n",
       "    <tr>\n",
       "      <td>3258</td>\n",
       "      <td>10861</td>\n",
       "      <td>NaN</td>\n",
       "      <td>NaN</td>\n",
       "      <td>NaN</td>\n",
       "      <td>[earthquake, safety, los, angeles, ûò, safety,...</td>\n",
       "      <td>0.721705</td>\n",
       "      <td>0.140893</td>\n",
       "      <td>0.137690</td>\n",
       "    </tr>\n",
       "    <tr>\n",
       "      <td>3259</td>\n",
       "      <td>10865</td>\n",
       "      <td>NaN</td>\n",
       "      <td>NaN</td>\n",
       "      <td>NaN</td>\n",
       "      <td>[storm, ri, worse, last, hurricane, cityamp3ot...</td>\n",
       "      <td>0.566088</td>\n",
       "      <td>0.277921</td>\n",
       "      <td>0.156004</td>\n",
       "    </tr>\n",
       "    <tr>\n",
       "      <td>3260</td>\n",
       "      <td>10868</td>\n",
       "      <td>NaN</td>\n",
       "      <td>NaN</td>\n",
       "      <td>NaN</td>\n",
       "      <td>[green, line, derailment, chicago]</td>\n",
       "      <td>0.167157</td>\n",
       "      <td>0.648354</td>\n",
       "      <td>0.184465</td>\n",
       "    </tr>\n",
       "    <tr>\n",
       "      <td>3261</td>\n",
       "      <td>10874</td>\n",
       "      <td>NaN</td>\n",
       "      <td>NaN</td>\n",
       "      <td>NaN</td>\n",
       "      <td>[meg, issues, hazardous, weather, outlook, hwo]</td>\n",
       "      <td>0.777035</td>\n",
       "      <td>0.111193</td>\n",
       "      <td>0.111772</td>\n",
       "    </tr>\n",
       "    <tr>\n",
       "      <td>3262</td>\n",
       "      <td>10875</td>\n",
       "      <td>NaN</td>\n",
       "      <td>NaN</td>\n",
       "      <td>NaN</td>\n",
       "      <td>[cityofcalgary, activated, municipal, emergenc...</td>\n",
       "      <td>0.709850</td>\n",
       "      <td>0.165877</td>\n",
       "      <td>0.124553</td>\n",
       "    </tr>\n",
       "  </tbody>\n",
       "</table>\n",
       "<p>3263 rows × 8 columns</p>\n",
       "</div>"
      ],
      "text/plain": [
       "         id keyword location  target  \\\n",
       "0         0     NaN      NaN     NaN   \n",
       "1         2     NaN      NaN     NaN   \n",
       "2         3     NaN      NaN     NaN   \n",
       "3         9     NaN      NaN     NaN   \n",
       "4        11     NaN      NaN     NaN   \n",
       "...     ...     ...      ...     ...   \n",
       "3258  10861     NaN      NaN     NaN   \n",
       "3259  10865     NaN      NaN     NaN   \n",
       "3260  10868     NaN      NaN     NaN   \n",
       "3261  10874     NaN      NaN     NaN   \n",
       "3262  10875     NaN      NaN     NaN   \n",
       "\n",
       "                                                   text    topic1    topic2  \\\n",
       "0                      [happened, terrible, car, crash]  0.442827  0.111232   \n",
       "1     [heard, earthquake, different, cities, stay, s...  0.086142  0.434642   \n",
       "2     [forest, fire, spot, pond, geese, fleeing, acr...  0.600592  0.302229   \n",
       "3            [apocalypse, lighting, spokane, wildfires]  0.192604  0.640481   \n",
       "4         [typhoon, soudelor, kills, 28, china, taiwan]  0.666273  0.166793   \n",
       "...                                                 ...       ...       ...   \n",
       "3258  [earthquake, safety, los, angeles, ûò, safety,...  0.721705  0.140893   \n",
       "3259  [storm, ri, worse, last, hurricane, cityamp3ot...  0.566088  0.277921   \n",
       "3260                 [green, line, derailment, chicago]  0.167157  0.648354   \n",
       "3261    [meg, issues, hazardous, weather, outlook, hwo]  0.777035  0.111193   \n",
       "3262  [cityofcalgary, activated, municipal, emergenc...  0.709850  0.165877   \n",
       "\n",
       "        topic3  \n",
       "0     0.445941  \n",
       "1     0.479184  \n",
       "2     0.097179  \n",
       "3     0.166863  \n",
       "4     0.166934  \n",
       "...        ...  \n",
       "3258  0.137690  \n",
       "3259  0.156004  \n",
       "3260  0.184465  \n",
       "3261  0.111772  \n",
       "3262  0.124553  \n",
       "\n",
       "[3263 rows x 8 columns]"
      ]
     },
     "execution_count": 43,
     "metadata": {},
     "output_type": "execute_result"
    }
   ],
   "source": [
    "df2"
   ]
  },
  {
   "cell_type": "code",
   "execution_count": 44,
   "metadata": {},
   "outputs": [],
   "source": [
    "df.to_csv('train_lda.csv', index=None)\n",
    "df2.to_csv('test_lda.csv', index=None)"
   ]
  },
  {
   "cell_type": "code",
   "execution_count": null,
   "metadata": {},
   "outputs": [],
   "source": []
  }
 ],
 "metadata": {
  "kernelspec": {
   "display_name": "Python 3",
   "language": "python",
   "name": "python3"
  },
  "language_info": {
   "codemirror_mode": {
    "name": "ipython",
    "version": 3
   },
   "file_extension": ".py",
   "mimetype": "text/x-python",
   "name": "python",
   "nbconvert_exporter": "python",
   "pygments_lexer": "ipython3",
   "version": "3.7.4"
  }
 },
 "nbformat": 4,
 "nbformat_minor": 2
}
